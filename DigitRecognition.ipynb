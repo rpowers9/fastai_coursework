{
 "cells": [
  {
   "cell_type": "code",
   "execution_count": 1,
   "metadata": {},
   "outputs": [],
   "source": [
    "%load_ext autoreload\n",
    "%autoreload 2\n",
    "\n",
    "%matplotlib inline\n"
   ]
  },
  {
   "cell_type": "code",
   "execution_count": null,
   "metadata": {},
   "outputs": [],
   "source": []
  },
  {
   "cell_type": "code",
   "execution_count": 2,
   "metadata": {
    "scrolled": true
   },
   "outputs": [
    {
     "name": "stdout",
     "output_type": "stream",
     "text": [
      "['', '/home/rich/git/fastai/courses/ml1', '/home/rich/anaconda3/lib/python37.zip', '/home/rich/anaconda3/lib/python3.7', '/home/rich/anaconda3/lib/python3.7/lib-dynload', '/home/rich/anaconda3/lib/python3.7/site-packages', '/home/rich/anaconda3/lib/python3.7/site-packages/IPython/extensions', '/home/rich/.ipython']\n",
      "['', '/home/rich/git/fastai/courses/ml1', '/home/rich/anaconda3/lib/python37.zip', '/home/rich/anaconda3/lib/python3.7', '/home/rich/anaconda3/lib/python3.7/lib-dynload', '/home/rich/anaconda3/lib/python3.7/site-packages', '/home/rich/anaconda3/lib/python3.7/site-packages/IPython/extensions', '/home/rich/.ipython', '../../../fastai/fastai/', '~/git/fastai/courses/ml1/', '~/git/fastai/courses/ml1/fastai/', '/home/rich/git/fastai/courses/ml1/fastai']\n"
     ]
    }
   ],
   "source": [
    "%pwd\n",
    "import sys\n",
    "print(sys.path)\n",
    "sys.path.append(\"../../../fastai/fastai/\")\n",
    "sys.path.append(\"~/git/fastai/courses/ml1/\")\n",
    "sys.path.append(\"~/git/fastai/courses/ml1/fastai/\")\n",
    "sys.path.append(\"/home/rich/git/fastai/courses/ml1/fastai\")\n",
    "\n",
    "print(sys.path)\n",
    "?display"
   ]
  },
  {
   "cell_type": "code",
   "execution_count": 7,
   "metadata": {},
   "outputs": [
    {
     "ename": "ModuleNotFoundError",
     "evalue": "No module named 'fastai'",
     "output_type": "error",
     "traceback": [
      "\u001b[0;31m---------------------------------------------------------------------------\u001b[0m",
      "\u001b[0;31mModuleNotFoundError\u001b[0m                       Traceback (most recent call last)",
      "\u001b[0;32m<ipython-input-7-fe9783a2a4ee>\u001b[0m in \u001b[0;36m<module>\u001b[0;34m()\u001b[0m\n\u001b[1;32m      1\u001b[0m \u001b[0;31m#PATH = \"~/git/fastai\"\u001b[0m\u001b[0;34m\u001b[0m\u001b[0;34m\u001b[0m\u001b[0m\n\u001b[0;32m----> 2\u001b[0;31m \u001b[0;32mfrom\u001b[0m \u001b[0mfastai\u001b[0m\u001b[0;34m.\u001b[0m\u001b[0mimports\u001b[0m \u001b[0;32mimport\u001b[0m \u001b[0;34m*\u001b[0m\u001b[0;34m\u001b[0m\u001b[0m\n\u001b[0m\u001b[1;32m      3\u001b[0m \u001b[0;32mfrom\u001b[0m \u001b[0mfastai\u001b[0m\u001b[0;34m.\u001b[0m\u001b[0mstructured\u001b[0m \u001b[0;32mimport\u001b[0m \u001b[0;34m*\u001b[0m\u001b[0;34m\u001b[0m\u001b[0m\n\u001b[1;32m      4\u001b[0m \u001b[0;34m\u001b[0m\u001b[0m\n\u001b[1;32m      5\u001b[0m \u001b[0;32mfrom\u001b[0m \u001b[0mpandas_summary\u001b[0m \u001b[0;32mimport\u001b[0m \u001b[0mDataFrameSummary\u001b[0m\u001b[0;34m\u001b[0m\u001b[0m\n",
      "\u001b[0;31mModuleNotFoundError\u001b[0m: No module named 'fastai'"
     ]
    }
   ],
   "source": [
    "#PATH = \"~/git/fastai\"\n",
    "from fastai.imports import *\n",
    "from fastai.structured import *\n",
    "\n",
    "from pandas_summary import DataFrameSummary\n",
    "from sklearn.ensemble import RandomForestRegressor, RandomForestClassifier\n",
    "from IPython.display import display\n",
    "\n",
    "from sklearn import metrics"
   ]
  },
  {
   "cell_type": "code",
   "execution_count": null,
   "metadata": {},
   "outputs": [],
   "source": [
    "\n",
    "\n"
   ]
  },
  {
   "cell_type": "code",
   "execution_count": null,
   "metadata": {},
   "outputs": [],
   "source": [
    "#now, since we're usign scikit-learn, we must convert categorical columns into dummy variables\n",
    "def dummies(train, test, columns = ['Pclass', 'Sex', 'Embarked', 'Ticket_Lett', 'Cabin_Letter', 'Name_Title', 'Fam_Size']):\n",
    "    for column in columns:\n",
    "       train[column] = train[column].apply(lambda x: str(x))\n",
    "       test[column] = test[column].apply(lambda x: str(x))\n",
    "        \n",
    "       good_cols = [column+'_'+i for i in train[column].unique() if i in test[column].unique()]\n",
    "        \n",
    "       train = pd.concat((train, pd.get_dummies(train[column], prefix = column)[good_cols]), axis = 1)\n",
    "       test = pd.concat((test, pd.get_dummies(test[column], prefix = column)[good_cols]), axis = 1)\n",
    "        \n",
    "       del train[column]\n",
    "       del test[column]\n",
    "    return train,test\n",
    "\n",
    "def split_vals(a,n): return a[:n], a[n:]\n"
   ]
  },
  {
   "cell_type": "code",
   "execution_count": null,
   "metadata": {},
   "outputs": [],
   "source": [
    "PATH = \"~/git/fastai/data/human_numbers/\"\n",
    "\n",
    "train = pd.read_csv(f'{PATH}train.csv', low_memory=False)\n",
    "test = pd.read_csv(f'{PATH}test.csv', low_memory=False)\n"
   ]
  },
  {
   "cell_type": "markdown",
   "metadata": {},
   "source": [
    "    DATASET PREPROCESSING"
   ]
  },
  {
   "cell_type": "code",
   "execution_count": null,
   "metadata": {},
   "outputs": [],
   "source": [
    "#to try -- secondary column indicating rank of each pixel value 1-5"
   ]
  },
  {
   "cell_type": "code",
   "execution_count": null,
   "metadata": {},
   "outputs": [],
   "source": []
  },
  {
   "cell_type": "markdown",
   "metadata": {},
   "source": [
    "        HYPERPARAMETER TUNING"
   ]
  },
  {
   "cell_type": "code",
   "execution_count": null,
   "metadata": {},
   "outputs": [],
   "source": [
    "from sklearn.model_selection import GridSearchCV\n",
    "from sklearn.ensemble import RandomForestClassifier\n",
    "\n",
    "rf = RandomForestClassifier(max_features='auto', oob_score=True, random_state=1,n_jobs=-1)\n",
    "\n",
    "param_grid = {\"criterion\" : [\"gini\", \"entropy\"], \"min_samples_leaf\" : [1,5,10],\n",
    "             \"min_samples_split\": [2,4,10,12,16],\"n_estimators\":[50,100,400,700,1000]}\n",
    "\n",
    "\n",
    "\n",
    "gs = GridSearchCV(estimator=rf, param_grid=param_grid, scoring='accuracy', cv=3,n_jobs=-1)\n",
    "\n",
    "gs\n",
    "\n",
    "#gs = gs.fit(train.iloc[:,1:], train.iloc[:,0])"
   ]
  },
  {
   "cell_type": "code",
   "execution_count": null,
   "metadata": {},
   "outputs": [],
   "source": []
  },
  {
   "cell_type": "code",
   "execution_count": null,
   "metadata": {},
   "outputs": [],
   "source": []
  }
 ],
 "metadata": {
  "kernelspec": {
   "display_name": "Python 3",
   "language": "python",
   "name": "python3"
  },
  "language_info": {
   "codemirror_mode": {
    "name": "ipython",
    "version": 3
   },
   "file_extension": ".py",
   "mimetype": "text/x-python",
   "name": "python",
   "nbconvert_exporter": "python",
   "pygments_lexer": "ipython3",
   "version": "3.7.0"
  }
 },
 "nbformat": 4,
 "nbformat_minor": 2
}
