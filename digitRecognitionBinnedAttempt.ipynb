{
 "cells": [
  {
   "cell_type": "code",
   "execution_count": null,
   "metadata": {},
   "outputs": [],
   "source": [
    "%load_ext autoreload\n",
    "%autoreload 2\n",
    "\n",
    "%matplotlib inline\n",
    "\n",
    "%pwd\n",
    "import sys\n",
    "sys.path.append(\"../../../fastai/fastai/\")\n",
    "\n",
    "from fastai.imports import *\n",
    "from fastai.structured import *\n",
    "from pprint import pprint\n",
    "\n",
    "from pandas_summary import DataFrameSummary\n",
    "from sklearn.ensemble import RandomForestRegressor, RandomForestClassifier\n",
    "from IPython.display import display\n",
    "\n",
    "from sklearn import metrics"
   ]
  },
  {
   "cell_type": "code",
   "execution_count": null,
   "metadata": {},
   "outputs": [],
   "source": [
    "#now, since we're usign scikit-learn, we must convert categorical columns into dummy variables\n",
    "def dummies(train, test, columns = ['Pclass', 'Sex', 'Embarked', 'Ticket_Lett', 'Cabin_Letter', 'Name_Title', 'Fam_Size']):\n",
    "    for column in columns:\n",
    "       train[column] = train[column].apply(lambda x: str(x))\n",
    "       test[column] = test[column].apply(lambda x: str(x))\n",
    "        \n",
    "       good_cols = [column+'_'+i for i in train[column].unique() if i in test[column].unique()]\n",
    "        \n",
    "       train = pd.concat((train, pd.get_dummies(train[column], prefix = column)[good_cols]), axis = 1)\n",
    "       test = pd.concat((test, pd.get_dummies(test[column], prefix = column)[good_cols]), axis = 1)\n",
    "        \n",
    "       del train[column]\n",
    "       del test[column]\n",
    "    return train,test\n",
    "\n",
    "def split_vals(a,n): return a[:n], a[n:]\n",
    "\n",
    "def myBins(x, df):\n",
    "    df.reset_index() \n",
    "    \n",
    "    numrows,numcols = df.shape \n",
    "    for x in range(numcols - 1):\n",
    "        z = np.digitize(df['pixel' + str(x)].values,[1,50,100,150,200,250,300])\n",
    "        df.insert(x + 1, 'pixel' + str(x) + 'binned',z)\n",
    "        x =x + 2\n",
    "    return df\n",
    "    "
   ]
  },
  {
   "cell_type": "code",
   "execution_count": null,
   "metadata": {},
   "outputs": [],
   "source": [
    "#What if we bin each column, doubling the colums, will the # of columns be too much\n",
    "PATH = \"~/git/fastai/data/human_numbers/\"\n",
    "#read_csv reads a file into a 2d array\n",
    "train = pd.read_csv(f'{PATH}train.csv', low_memory=False)"
   ]
  },
  {
   "cell_type": "code",
   "execution_count": null,
   "metadata": {},
   "outputs": [],
   "source": [
    "#train_binned = train.loc[:,train.columns != 'label']\n",
    "#z = np.digitize(train_binned['pixel' + str(x)].values,[1,50,100,150,200,250,300])\n",
    "#pprint(z)\n"
   ]
  },
  {
   "cell_type": "code",
   "execution_count": null,
   "metadata": {},
   "outputs": [],
   "source": [
    "x = 0\n",
    "\n",
    "#reset train_binned_1\n",
    "train_binned_1 = None\n",
    "\n",
    "train_binned_1 = myBins(x, train)\n",
    "#left off here, i don't think train_binned_1 is showing the digitized column values i was expecting\n",
    "\n",
    "train_binned_1\n",
    "\n",
    "#z = pd.cut(train_binned.iloc[41980].values,[1,50,100,150,200,250,300])\n",
    "#z = np.digitize(train_binned.iloc[41980].values,[1,50,100,150,200,250,300])\n",
    "#pprint(z.tolist())\n",
    "\n",
    "#try this to see entire array instead of truncated output\n",
    "#z.arrange(100).reshape(25,4).tolist()\n",
    "\n",
    "#z\n",
    "#train_binned.apply(myBins(x,train_binned),axis=1)\n",
    "#train_binned.iloc[41980]\n",
    "\n"
   ]
  },
  {
   "cell_type": "code",
   "execution_count": null,
   "metadata": {},
   "outputs": [],
   "source": []
  },
  {
   "cell_type": "code",
   "execution_count": null,
   "metadata": {},
   "outputs": [],
   "source": []
  },
  {
   "cell_type": "code",
   "execution_count": null,
   "metadata": {},
   "outputs": [],
   "source": []
  },
  {
   "cell_type": "code",
   "execution_count": null,
   "metadata": {},
   "outputs": [],
   "source": []
  },
  {
   "cell_type": "code",
   "execution_count": null,
   "metadata": {},
   "outputs": [],
   "source": []
  },
  {
   "cell_type": "code",
   "execution_count": null,
   "metadata": {},
   "outputs": [],
   "source": []
  },
  {
   "cell_type": "code",
   "execution_count": null,
   "metadata": {},
   "outputs": [],
   "source": []
  },
  {
   "cell_type": "code",
   "execution_count": null,
   "metadata": {},
   "outputs": [],
   "source": []
  },
  {
   "cell_type": "code",
   "execution_count": null,
   "metadata": {},
   "outputs": [],
   "source": []
  },
  {
   "cell_type": "code",
   "execution_count": null,
   "metadata": {},
   "outputs": [],
   "source": []
  },
  {
   "cell_type": "code",
   "execution_count": null,
   "metadata": {},
   "outputs": [],
   "source": []
  },
  {
   "cell_type": "code",
   "execution_count": null,
   "metadata": {},
   "outputs": [],
   "source": []
  }
 ],
 "metadata": {
  "kernelspec": {
   "display_name": "Python 3",
   "language": "python",
   "name": "python3"
  },
  "language_info": {
   "codemirror_mode": {
    "name": "ipython",
    "version": 3
   },
   "file_extension": ".py",
   "mimetype": "text/x-python",
   "name": "python",
   "nbconvert_exporter": "python",
   "pygments_lexer": "ipython3",
   "version": "3.7.0"
  }
 },
 "nbformat": 4,
 "nbformat_minor": 2
}
